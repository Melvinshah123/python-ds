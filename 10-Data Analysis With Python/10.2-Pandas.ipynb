{
 "cells": [
  {
   "cell_type": "markdown",
   "metadata": {},
   "source": [
    "#### Pandas - DataFrame and Series\n",
    "Pandas is a powerful data manipulation library in Python widely used for data analysis and data cleaning. It provides two primary data structures: Series and DataFrame.\n",
    "A Series is a one-dimensional array-like object , while a DataFrame is a two_dimensional , size-mutable , and potentially heterogenous tabular data structure with labeled axes (rows and columns)"
   ]
  },
  {
   "cell_type": "code",
   "execution_count": 4,
   "metadata": {},
   "outputs": [
    {
     "name": "stdout",
     "output_type": "stream",
     "text": [
      "Series\n",
      " 0    1\n",
      "1    2\n",
      "2    3\n",
      "3    4\n",
      "4    5\n",
      "dtype: int64\n",
      "<class 'pandas.core.series.Series'>\n"
     ]
    }
   ],
   "source": [
    "# Series\n",
    "import pandas as pd\n",
    "data = [1 , 2 , 3 , 4 , 5]\n",
    "series = pd.Series(data)\n",
    "print(\"Series\\n\",series)\n",
    "print(type(series))"
   ]
  },
  {
   "cell_type": "code",
   "execution_count": 5,
   "metadata": {},
   "outputs": [
    {
     "name": "stdout",
     "output_type": "stream",
     "text": [
      "a    1\n",
      "b    2\n",
      "c    3\n",
      "dtype: int64\n"
     ]
    }
   ],
   "source": [
    "## Create a Series from dictionary elements\n",
    "data = {'a' : 1 , 'b' : 2 , 'c' : 3}\n",
    "series_dict = pd.Series(data)\n",
    "print(series_dict)"
   ]
  },
  {
   "cell_type": "code",
   "execution_count": 6,
   "metadata": {},
   "outputs": [
    {
     "data": {
      "text/plain": [
       "a    10\n",
       "b    20\n",
       "c    30\n",
       "dtype: int64"
      ]
     },
     "execution_count": 6,
     "metadata": {},
     "output_type": "execute_result"
    }
   ],
   "source": [
    "data = [10 , 20 , 30]\n",
    "index = ['a' , 'b' , 'c']\n",
    "pd.Series(data , index = index)"
   ]
  },
  {
   "cell_type": "code",
   "execution_count": 8,
   "metadata": {},
   "outputs": [
    {
     "name": "stdout",
     "output_type": "stream",
     "text": [
      "    Name  Age       City\n",
      "0  Krish   25  Bangalore\n",
      "1   John   30   New York\n",
      "2   Jack   45    Florida\n",
      "<class 'pandas.core.frame.DataFrame'>\n"
     ]
    }
   ],
   "source": [
    "## DataFrame\n",
    "## create a DataFrame from a dictionary of list\n",
    "\n",
    "data = {\n",
    "    'Name': ['Krish' , 'John' , 'Jack'] ,\n",
    "    'Age' :[25 , 30 , 45] ,\n",
    "    'City':['Bangalore' , 'New York' , 'Florida']\n",
    "}\n",
    "df = pd.DataFrame(data)\n",
    "print(df)\n",
    "print(type(df))"
   ]
  },
  {
   "cell_type": "code",
   "execution_count": 9,
   "metadata": {},
   "outputs": [
    {
     "name": "stdout",
     "output_type": "stream",
     "text": [
      "    Name  Age       City\n",
      "0  Krish   32  Bangalore\n",
      "1   John   34  Bangalore\n",
      "2  Bappy   25  Bangalore\n",
      "3   Jack   30  Bangalore\n",
      "<class 'pandas.core.frame.DataFrame'>\n"
     ]
    }
   ],
   "source": [
    "## Create a dataFrame from a list of Dictionaries\n",
    "\n",
    "data = [\n",
    "    {'Name' : 'Krish' , 'Age': 32, 'City': 'Bangalore'} ,\n",
    "    {'Name' : 'John' , 'Age': 34, 'City': 'Bangalore'} ,\n",
    "    {'Name' : 'Bappy' , 'Age': 25, 'City': 'Bangalore'} ,\n",
    "    {'Name' : 'Jack' , 'Age': 30, 'City': 'Bangalore'}\n",
    "]\n",
    "df = pd.DataFrame(data)\n",
    "print(df)\n",
    "print(type(df))"
   ]
  },
  {
   "cell_type": "code",
   "execution_count": 12,
   "metadata": {},
   "outputs": [
    {
     "data": {
      "text/html": [
       "<div>\n",
       "<style scoped>\n",
       "    .dataframe tbody tr th:only-of-type {\n",
       "        vertical-align: middle;\n",
       "    }\n",
       "\n",
       "    .dataframe tbody tr th {\n",
       "        vertical-align: top;\n",
       "    }\n",
       "\n",
       "    .dataframe thead th {\n",
       "        text-align: right;\n",
       "    }\n",
       "</style>\n",
       "<table border=\"1\" class=\"dataframe\">\n",
       "  <thead>\n",
       "    <tr style=\"text-align: right;\">\n",
       "      <th></th>\n",
       "      <th>ID</th>\n",
       "      <th>Name</th>\n",
       "      <th>Age</th>\n",
       "      <th>Country</th>\n",
       "      <th>Email</th>\n",
       "    </tr>\n",
       "  </thead>\n",
       "  <tbody>\n",
       "    <tr>\n",
       "      <th>0</th>\n",
       "      <td>1</td>\n",
       "      <td>Name_1</td>\n",
       "      <td>62</td>\n",
       "      <td>Country_1</td>\n",
       "      <td>email_1@example.com</td>\n",
       "    </tr>\n",
       "    <tr>\n",
       "      <th>1</th>\n",
       "      <td>2</td>\n",
       "      <td>Name_2</td>\n",
       "      <td>48</td>\n",
       "      <td>Country_2</td>\n",
       "      <td>email_2@example.com</td>\n",
       "    </tr>\n",
       "    <tr>\n",
       "      <th>2</th>\n",
       "      <td>3</td>\n",
       "      <td>Name_3</td>\n",
       "      <td>61</td>\n",
       "      <td>Country_3</td>\n",
       "      <td>email_3@example.com</td>\n",
       "    </tr>\n",
       "    <tr>\n",
       "      <th>3</th>\n",
       "      <td>4</td>\n",
       "      <td>Name_4</td>\n",
       "      <td>32</td>\n",
       "      <td>Country_4</td>\n",
       "      <td>email_4@example.com</td>\n",
       "    </tr>\n",
       "    <tr>\n",
       "      <th>4</th>\n",
       "      <td>5</td>\n",
       "      <td>Name_5</td>\n",
       "      <td>69</td>\n",
       "      <td>Country_5</td>\n",
       "      <td>email_5@example.com</td>\n",
       "    </tr>\n",
       "  </tbody>\n",
       "</table>\n",
       "</div>"
      ],
      "text/plain": [
       "   ID    Name  Age    Country                Email\n",
       "0   1  Name_1   62  Country_1  email_1@example.com\n",
       "1   2  Name_2   48  Country_2  email_2@example.com\n",
       "2   3  Name_3   61  Country_3  email_3@example.com\n",
       "3   4  Name_4   32  Country_4  email_4@example.com\n",
       "4   5  Name_5   69  Country_5  email_5@example.com"
      ]
     },
     "execution_count": 12,
     "metadata": {},
     "output_type": "execute_result"
    }
   ],
   "source": [
    "df = pd.read_csv('basic-data.csv')\n",
    "df.head(5)"
   ]
  },
  {
   "cell_type": "code",
   "execution_count": 13,
   "metadata": {},
   "outputs": [
    {
     "data": {
      "text/html": [
       "<div>\n",
       "<style scoped>\n",
       "    .dataframe tbody tr th:only-of-type {\n",
       "        vertical-align: middle;\n",
       "    }\n",
       "\n",
       "    .dataframe tbody tr th {\n",
       "        vertical-align: top;\n",
       "    }\n",
       "\n",
       "    .dataframe thead th {\n",
       "        text-align: right;\n",
       "    }\n",
       "</style>\n",
       "<table border=\"1\" class=\"dataframe\">\n",
       "  <thead>\n",
       "    <tr style=\"text-align: right;\">\n",
       "      <th></th>\n",
       "      <th>ID</th>\n",
       "      <th>Name</th>\n",
       "      <th>Age</th>\n",
       "      <th>Country</th>\n",
       "      <th>Email</th>\n",
       "    </tr>\n",
       "  </thead>\n",
       "  <tbody>\n",
       "    <tr>\n",
       "      <th>95</th>\n",
       "      <td>96</td>\n",
       "      <td>Name_96</td>\n",
       "      <td>60</td>\n",
       "      <td>Country_6</td>\n",
       "      <td>email_96@example.com</td>\n",
       "    </tr>\n",
       "    <tr>\n",
       "      <th>96</th>\n",
       "      <td>97</td>\n",
       "      <td>Name_97</td>\n",
       "      <td>26</td>\n",
       "      <td>Country_7</td>\n",
       "      <td>email_97@example.com</td>\n",
       "    </tr>\n",
       "    <tr>\n",
       "      <th>97</th>\n",
       "      <td>98</td>\n",
       "      <td>Name_98</td>\n",
       "      <td>52</td>\n",
       "      <td>Country_8</td>\n",
       "      <td>email_98@example.com</td>\n",
       "    </tr>\n",
       "    <tr>\n",
       "      <th>98</th>\n",
       "      <td>99</td>\n",
       "      <td>Name_99</td>\n",
       "      <td>24</td>\n",
       "      <td>Country_9</td>\n",
       "      <td>email_99@example.com</td>\n",
       "    </tr>\n",
       "    <tr>\n",
       "      <th>99</th>\n",
       "      <td>100</td>\n",
       "      <td>Name_100</td>\n",
       "      <td>55</td>\n",
       "      <td>Country_0</td>\n",
       "      <td>email_100@example.com</td>\n",
       "    </tr>\n",
       "  </tbody>\n",
       "</table>\n",
       "</div>"
      ],
      "text/plain": [
       "     ID      Name  Age    Country                  Email\n",
       "95   96   Name_96   60  Country_6   email_96@example.com\n",
       "96   97   Name_97   26  Country_7   email_97@example.com\n",
       "97   98   Name_98   52  Country_8   email_98@example.com\n",
       "98   99   Name_99   24  Country_9   email_99@example.com\n",
       "99  100  Name_100   55  Country_0  email_100@example.com"
      ]
     },
     "execution_count": 13,
     "metadata": {},
     "output_type": "execute_result"
    }
   ],
   "source": [
    "df.tail(5)"
   ]
  },
  {
   "cell_type": "code",
   "execution_count": 14,
   "metadata": {},
   "outputs": [
    {
     "data": {
      "text/html": [
       "<div>\n",
       "<style scoped>\n",
       "    .dataframe tbody tr th:only-of-type {\n",
       "        vertical-align: middle;\n",
       "    }\n",
       "\n",
       "    .dataframe tbody tr th {\n",
       "        vertical-align: top;\n",
       "    }\n",
       "\n",
       "    .dataframe thead th {\n",
       "        text-align: right;\n",
       "    }\n",
       "</style>\n",
       "<table border=\"1\" class=\"dataframe\">\n",
       "  <thead>\n",
       "    <tr style=\"text-align: right;\">\n",
       "      <th></th>\n",
       "      <th>ID</th>\n",
       "      <th>Name</th>\n",
       "      <th>Age</th>\n",
       "      <th>Country</th>\n",
       "      <th>Email</th>\n",
       "    </tr>\n",
       "  </thead>\n",
       "  <tbody>\n",
       "    <tr>\n",
       "      <th>0</th>\n",
       "      <td>1</td>\n",
       "      <td>Name_1</td>\n",
       "      <td>62</td>\n",
       "      <td>Country_1</td>\n",
       "      <td>email_1@example.com</td>\n",
       "    </tr>\n",
       "    <tr>\n",
       "      <th>1</th>\n",
       "      <td>2</td>\n",
       "      <td>Name_2</td>\n",
       "      <td>48</td>\n",
       "      <td>Country_2</td>\n",
       "      <td>email_2@example.com</td>\n",
       "    </tr>\n",
       "    <tr>\n",
       "      <th>2</th>\n",
       "      <td>3</td>\n",
       "      <td>Name_3</td>\n",
       "      <td>61</td>\n",
       "      <td>Country_3</td>\n",
       "      <td>email_3@example.com</td>\n",
       "    </tr>\n",
       "    <tr>\n",
       "      <th>3</th>\n",
       "      <td>4</td>\n",
       "      <td>Name_4</td>\n",
       "      <td>32</td>\n",
       "      <td>Country_4</td>\n",
       "      <td>email_4@example.com</td>\n",
       "    </tr>\n",
       "    <tr>\n",
       "      <th>4</th>\n",
       "      <td>5</td>\n",
       "      <td>Name_5</td>\n",
       "      <td>69</td>\n",
       "      <td>Country_5</td>\n",
       "      <td>email_5@example.com</td>\n",
       "    </tr>\n",
       "    <tr>\n",
       "      <th>...</th>\n",
       "      <td>...</td>\n",
       "      <td>...</td>\n",
       "      <td>...</td>\n",
       "      <td>...</td>\n",
       "      <td>...</td>\n",
       "    </tr>\n",
       "    <tr>\n",
       "      <th>95</th>\n",
       "      <td>96</td>\n",
       "      <td>Name_96</td>\n",
       "      <td>60</td>\n",
       "      <td>Country_6</td>\n",
       "      <td>email_96@example.com</td>\n",
       "    </tr>\n",
       "    <tr>\n",
       "      <th>96</th>\n",
       "      <td>97</td>\n",
       "      <td>Name_97</td>\n",
       "      <td>26</td>\n",
       "      <td>Country_7</td>\n",
       "      <td>email_97@example.com</td>\n",
       "    </tr>\n",
       "    <tr>\n",
       "      <th>97</th>\n",
       "      <td>98</td>\n",
       "      <td>Name_98</td>\n",
       "      <td>52</td>\n",
       "      <td>Country_8</td>\n",
       "      <td>email_98@example.com</td>\n",
       "    </tr>\n",
       "    <tr>\n",
       "      <th>98</th>\n",
       "      <td>99</td>\n",
       "      <td>Name_99</td>\n",
       "      <td>24</td>\n",
       "      <td>Country_9</td>\n",
       "      <td>email_99@example.com</td>\n",
       "    </tr>\n",
       "    <tr>\n",
       "      <th>99</th>\n",
       "      <td>100</td>\n",
       "      <td>Name_100</td>\n",
       "      <td>55</td>\n",
       "      <td>Country_0</td>\n",
       "      <td>email_100@example.com</td>\n",
       "    </tr>\n",
       "  </tbody>\n",
       "</table>\n",
       "<p>100 rows × 5 columns</p>\n",
       "</div>"
      ],
      "text/plain": [
       "     ID      Name  Age    Country                  Email\n",
       "0     1    Name_1   62  Country_1    email_1@example.com\n",
       "1     2    Name_2   48  Country_2    email_2@example.com\n",
       "2     3    Name_3   61  Country_3    email_3@example.com\n",
       "3     4    Name_4   32  Country_4    email_4@example.com\n",
       "4     5    Name_5   69  Country_5    email_5@example.com\n",
       "..  ...       ...  ...        ...                    ...\n",
       "95   96   Name_96   60  Country_6   email_96@example.com\n",
       "96   97   Name_97   26  Country_7   email_97@example.com\n",
       "97   98   Name_98   52  Country_8   email_98@example.com\n",
       "98   99   Name_99   24  Country_9   email_99@example.com\n",
       "99  100  Name_100   55  Country_0  email_100@example.com\n",
       "\n",
       "[100 rows x 5 columns]"
      ]
     },
     "execution_count": 14,
     "metadata": {},
     "output_type": "execute_result"
    }
   ],
   "source": [
    "## Accessing data from dataFrame\n",
    "df"
   ]
  },
  {
   "cell_type": "code",
   "execution_count": 15,
   "metadata": {},
   "outputs": [
    {
     "data": {
      "text/plain": [
       "0       Name_1\n",
       "1       Name_2\n",
       "2       Name_3\n",
       "3       Name_4\n",
       "4       Name_5\n",
       "        ...   \n",
       "95     Name_96\n",
       "96     Name_97\n",
       "97     Name_98\n",
       "98     Name_99\n",
       "99    Name_100\n",
       "Name: Name, Length: 100, dtype: object"
      ]
     },
     "execution_count": 15,
     "metadata": {},
     "output_type": "execute_result"
    }
   ],
   "source": [
    "df['Name']"
   ]
  },
  {
   "cell_type": "code",
   "execution_count": 16,
   "metadata": {},
   "outputs": [
    {
     "data": {
      "text/plain": [
       "[{'Name': 'Krish', 'Age': 32, 'City': 'Bangalore'},\n",
       " {'Name': 'John', 'Age': 34, 'City': 'Bangalore'},\n",
       " {'Name': 'Bappy', 'Age': 25, 'City': 'Bangalore'},\n",
       " {'Name': 'Jack', 'Age': 30, 'City': 'Bangalore'}]"
      ]
     },
     "execution_count": 16,
     "metadata": {},
     "output_type": "execute_result"
    }
   ],
   "source": [
    "data"
   ]
  },
  {
   "cell_type": "code",
   "execution_count": 17,
   "metadata": {},
   "outputs": [
    {
     "data": {
      "text/plain": [
       "pandas.core.series.Series"
      ]
     },
     "execution_count": 17,
     "metadata": {},
     "output_type": "execute_result"
    }
   ],
   "source": [
    "type(df['Name'])"
   ]
  },
  {
   "cell_type": "code",
   "execution_count": 23,
   "metadata": {},
   "outputs": [
    {
     "name": "stderr",
     "output_type": "stream",
     "text": [
      "C:\\Users\\290598\\AppData\\Local\\Temp\\ipykernel_15044\\395987507.py:1: FutureWarning: Series.__getitem__ treating keys as positions is deprecated. In a future version, integer keys will always be treated as labels (consistent with DataFrame behavior). To access a value by position, use `ser.iloc[pos]`\n",
      "  df.loc[0][1]\n"
     ]
    },
    {
     "data": {
      "text/plain": [
       "'Name_1'"
      ]
     },
     "execution_count": 23,
     "metadata": {},
     "output_type": "execute_result"
    }
   ],
   "source": [
    "df.loc[0][1]"
   ]
  },
  {
   "cell_type": "code",
   "execution_count": 24,
   "metadata": {},
   "outputs": [
    {
     "name": "stderr",
     "output_type": "stream",
     "text": [
      "C:\\Users\\290598\\AppData\\Local\\Temp\\ipykernel_15044\\2519637664.py:1: FutureWarning: Series.__getitem__ treating keys as positions is deprecated. In a future version, integer keys will always be treated as labels (consistent with DataFrame behavior). To access a value by position, use `ser.iloc[pos]`\n",
      "  df.iloc[0][2]\n"
     ]
    },
    {
     "data": {
      "text/plain": [
       "np.int64(62)"
      ]
     },
     "execution_count": 24,
     "metadata": {},
     "output_type": "execute_result"
    }
   ],
   "source": [
    "df.iloc[0][2]"
   ]
  },
  {
   "cell_type": "code",
   "execution_count": 25,
   "metadata": {},
   "outputs": [
    {
     "data": {
      "text/plain": [
       "0       Name_1\n",
       "1       Name_2\n",
       "2       Name_3\n",
       "3       Name_4\n",
       "4       Name_5\n",
       "        ...   \n",
       "95     Name_96\n",
       "96     Name_97\n",
       "97     Name_98\n",
       "98     Name_99\n",
       "99    Name_100\n",
       "Name: Name, Length: 100, dtype: object"
      ]
     },
     "execution_count": 25,
     "metadata": {},
     "output_type": "execute_result"
    }
   ],
   "source": [
    "## Accessing a specified element\n",
    "df['Name']"
   ]
  },
  {
   "cell_type": "code",
   "execution_count": 27,
   "metadata": {},
   "outputs": [
    {
     "data": {
      "text/plain": [
       "np.int64(48)"
      ]
     },
     "execution_count": 27,
     "metadata": {},
     "output_type": "execute_result"
    }
   ],
   "source": [
    "df.at[1 , 'Age']"
   ]
  },
  {
   "cell_type": "code",
   "execution_count": 28,
   "metadata": {},
   "outputs": [
    {
     "data": {
      "text/plain": [
       "'Name_2'"
      ]
     },
     "execution_count": 28,
     "metadata": {},
     "output_type": "execute_result"
    }
   ],
   "source": [
    "df.at[1 , 'Name']"
   ]
  },
  {
   "cell_type": "code",
   "execution_count": 29,
   "metadata": {},
   "outputs": [
    {
     "data": {
      "text/plain": [
       "np.int64(61)"
      ]
     },
     "execution_count": 29,
     "metadata": {},
     "output_type": "execute_result"
    }
   ],
   "source": [
    "## Accessing a secified element using iat\n",
    "df.iat[2,2]"
   ]
  },
  {
   "cell_type": "code",
   "execution_count": 43,
   "metadata": {},
   "outputs": [
    {
     "data": {
      "text/html": [
       "<div>\n",
       "<style scoped>\n",
       "    .dataframe tbody tr th:only-of-type {\n",
       "        vertical-align: middle;\n",
       "    }\n",
       "\n",
       "    .dataframe tbody tr th {\n",
       "        vertical-align: top;\n",
       "    }\n",
       "\n",
       "    .dataframe thead th {\n",
       "        text-align: right;\n",
       "    }\n",
       "</style>\n",
       "<table border=\"1\" class=\"dataframe\">\n",
       "  <thead>\n",
       "    <tr style=\"text-align: right;\">\n",
       "      <th></th>\n",
       "      <th>ID</th>\n",
       "      <th>Name</th>\n",
       "      <th>Age</th>\n",
       "      <th>Country</th>\n",
       "      <th>Email</th>\n",
       "      <th>Salary</th>\n",
       "    </tr>\n",
       "  </thead>\n",
       "  <tbody>\n",
       "    <tr>\n",
       "      <th>0</th>\n",
       "      <td>1</td>\n",
       "      <td>Name_1</td>\n",
       "      <td>62</td>\n",
       "      <td>Country_1</td>\n",
       "      <td>email_1@example.com</td>\n",
       "      <td>100</td>\n",
       "    </tr>\n",
       "    <tr>\n",
       "      <th>1</th>\n",
       "      <td>2</td>\n",
       "      <td>Name_2</td>\n",
       "      <td>48</td>\n",
       "      <td>Country_2</td>\n",
       "      <td>email_2@example.com</td>\n",
       "      <td>101</td>\n",
       "    </tr>\n",
       "    <tr>\n",
       "      <th>2</th>\n",
       "      <td>3</td>\n",
       "      <td>Name_3</td>\n",
       "      <td>61</td>\n",
       "      <td>Country_3</td>\n",
       "      <td>email_3@example.com</td>\n",
       "      <td>102</td>\n",
       "    </tr>\n",
       "    <tr>\n",
       "      <th>3</th>\n",
       "      <td>4</td>\n",
       "      <td>Name_4</td>\n",
       "      <td>32</td>\n",
       "      <td>Country_4</td>\n",
       "      <td>email_4@example.com</td>\n",
       "      <td>103</td>\n",
       "    </tr>\n",
       "    <tr>\n",
       "      <th>4</th>\n",
       "      <td>5</td>\n",
       "      <td>Name_5</td>\n",
       "      <td>69</td>\n",
       "      <td>Country_5</td>\n",
       "      <td>email_5@example.com</td>\n",
       "      <td>104</td>\n",
       "    </tr>\n",
       "    <tr>\n",
       "      <th>...</th>\n",
       "      <td>...</td>\n",
       "      <td>...</td>\n",
       "      <td>...</td>\n",
       "      <td>...</td>\n",
       "      <td>...</td>\n",
       "      <td>...</td>\n",
       "    </tr>\n",
       "    <tr>\n",
       "      <th>95</th>\n",
       "      <td>96</td>\n",
       "      <td>Name_96</td>\n",
       "      <td>60</td>\n",
       "      <td>Country_6</td>\n",
       "      <td>email_96@example.com</td>\n",
       "      <td>195</td>\n",
       "    </tr>\n",
       "    <tr>\n",
       "      <th>96</th>\n",
       "      <td>97</td>\n",
       "      <td>Name_97</td>\n",
       "      <td>26</td>\n",
       "      <td>Country_7</td>\n",
       "      <td>email_97@example.com</td>\n",
       "      <td>196</td>\n",
       "    </tr>\n",
       "    <tr>\n",
       "      <th>97</th>\n",
       "      <td>98</td>\n",
       "      <td>Name_98</td>\n",
       "      <td>52</td>\n",
       "      <td>Country_8</td>\n",
       "      <td>email_98@example.com</td>\n",
       "      <td>197</td>\n",
       "    </tr>\n",
       "    <tr>\n",
       "      <th>98</th>\n",
       "      <td>99</td>\n",
       "      <td>Name_99</td>\n",
       "      <td>24</td>\n",
       "      <td>Country_9</td>\n",
       "      <td>email_99@example.com</td>\n",
       "      <td>198</td>\n",
       "    </tr>\n",
       "    <tr>\n",
       "      <th>99</th>\n",
       "      <td>100</td>\n",
       "      <td>Name_100</td>\n",
       "      <td>55</td>\n",
       "      <td>Country_0</td>\n",
       "      <td>email_100@example.com</td>\n",
       "      <td>199</td>\n",
       "    </tr>\n",
       "  </tbody>\n",
       "</table>\n",
       "<p>100 rows × 6 columns</p>\n",
       "</div>"
      ],
      "text/plain": [
       "     ID      Name  Age    Country                  Email  Salary\n",
       "0     1    Name_1   62  Country_1    email_1@example.com     100\n",
       "1     2    Name_2   48  Country_2    email_2@example.com     101\n",
       "2     3    Name_3   61  Country_3    email_3@example.com     102\n",
       "3     4    Name_4   32  Country_4    email_4@example.com     103\n",
       "4     5    Name_5   69  Country_5    email_5@example.com     104\n",
       "..  ...       ...  ...        ...                    ...     ...\n",
       "95   96   Name_96   60  Country_6   email_96@example.com     195\n",
       "96   97   Name_97   26  Country_7   email_97@example.com     196\n",
       "97   98   Name_98   52  Country_8   email_98@example.com     197\n",
       "98   99   Name_99   24  Country_9   email_99@example.com     198\n",
       "99  100  Name_100   55  Country_0  email_100@example.com     199\n",
       "\n",
       "[100 rows x 6 columns]"
      ]
     },
     "execution_count": 43,
     "metadata": {},
     "output_type": "execute_result"
    }
   ],
   "source": [
    "## Data manipluation with DataFrame\n",
    "import numpy as np\n",
    "numbers = np.arange(100,200).tolist()\n",
    "df[\"Salary\"] = numbers\n",
    "df"
   ]
  },
  {
   "cell_type": "code",
   "execution_count": 44,
   "metadata": {},
   "outputs": [],
   "source": [
    "## Remove a column\n",
    "df.drop('Salary',axis = 1,inplace = True)\n"
   ]
  },
  {
   "cell_type": "code",
   "execution_count": 45,
   "metadata": {},
   "outputs": [
    {
     "data": {
      "text/html": [
       "<div>\n",
       "<style scoped>\n",
       "    .dataframe tbody tr th:only-of-type {\n",
       "        vertical-align: middle;\n",
       "    }\n",
       "\n",
       "    .dataframe tbody tr th {\n",
       "        vertical-align: top;\n",
       "    }\n",
       "\n",
       "    .dataframe thead th {\n",
       "        text-align: right;\n",
       "    }\n",
       "</style>\n",
       "<table border=\"1\" class=\"dataframe\">\n",
       "  <thead>\n",
       "    <tr style=\"text-align: right;\">\n",
       "      <th></th>\n",
       "      <th>ID</th>\n",
       "      <th>Name</th>\n",
       "      <th>Age</th>\n",
       "      <th>Country</th>\n",
       "      <th>Email</th>\n",
       "    </tr>\n",
       "  </thead>\n",
       "  <tbody>\n",
       "    <tr>\n",
       "      <th>0</th>\n",
       "      <td>1</td>\n",
       "      <td>Name_1</td>\n",
       "      <td>62</td>\n",
       "      <td>Country_1</td>\n",
       "      <td>email_1@example.com</td>\n",
       "    </tr>\n",
       "    <tr>\n",
       "      <th>1</th>\n",
       "      <td>2</td>\n",
       "      <td>Name_2</td>\n",
       "      <td>48</td>\n",
       "      <td>Country_2</td>\n",
       "      <td>email_2@example.com</td>\n",
       "    </tr>\n",
       "    <tr>\n",
       "      <th>2</th>\n",
       "      <td>3</td>\n",
       "      <td>Name_3</td>\n",
       "      <td>61</td>\n",
       "      <td>Country_3</td>\n",
       "      <td>email_3@example.com</td>\n",
       "    </tr>\n",
       "    <tr>\n",
       "      <th>3</th>\n",
       "      <td>4</td>\n",
       "      <td>Name_4</td>\n",
       "      <td>32</td>\n",
       "      <td>Country_4</td>\n",
       "      <td>email_4@example.com</td>\n",
       "    </tr>\n",
       "    <tr>\n",
       "      <th>4</th>\n",
       "      <td>5</td>\n",
       "      <td>Name_5</td>\n",
       "      <td>69</td>\n",
       "      <td>Country_5</td>\n",
       "      <td>email_5@example.com</td>\n",
       "    </tr>\n",
       "    <tr>\n",
       "      <th>...</th>\n",
       "      <td>...</td>\n",
       "      <td>...</td>\n",
       "      <td>...</td>\n",
       "      <td>...</td>\n",
       "      <td>...</td>\n",
       "    </tr>\n",
       "    <tr>\n",
       "      <th>95</th>\n",
       "      <td>96</td>\n",
       "      <td>Name_96</td>\n",
       "      <td>60</td>\n",
       "      <td>Country_6</td>\n",
       "      <td>email_96@example.com</td>\n",
       "    </tr>\n",
       "    <tr>\n",
       "      <th>96</th>\n",
       "      <td>97</td>\n",
       "      <td>Name_97</td>\n",
       "      <td>26</td>\n",
       "      <td>Country_7</td>\n",
       "      <td>email_97@example.com</td>\n",
       "    </tr>\n",
       "    <tr>\n",
       "      <th>97</th>\n",
       "      <td>98</td>\n",
       "      <td>Name_98</td>\n",
       "      <td>52</td>\n",
       "      <td>Country_8</td>\n",
       "      <td>email_98@example.com</td>\n",
       "    </tr>\n",
       "    <tr>\n",
       "      <th>98</th>\n",
       "      <td>99</td>\n",
       "      <td>Name_99</td>\n",
       "      <td>24</td>\n",
       "      <td>Country_9</td>\n",
       "      <td>email_99@example.com</td>\n",
       "    </tr>\n",
       "    <tr>\n",
       "      <th>99</th>\n",
       "      <td>100</td>\n",
       "      <td>Name_100</td>\n",
       "      <td>55</td>\n",
       "      <td>Country_0</td>\n",
       "      <td>email_100@example.com</td>\n",
       "    </tr>\n",
       "  </tbody>\n",
       "</table>\n",
       "<p>100 rows × 5 columns</p>\n",
       "</div>"
      ],
      "text/plain": [
       "     ID      Name  Age    Country                  Email\n",
       "0     1    Name_1   62  Country_1    email_1@example.com\n",
       "1     2    Name_2   48  Country_2    email_2@example.com\n",
       "2     3    Name_3   61  Country_3    email_3@example.com\n",
       "3     4    Name_4   32  Country_4    email_4@example.com\n",
       "4     5    Name_5   69  Country_5    email_5@example.com\n",
       "..  ...       ...  ...        ...                    ...\n",
       "95   96   Name_96   60  Country_6   email_96@example.com\n",
       "96   97   Name_97   26  Country_7   email_97@example.com\n",
       "97   98   Name_98   52  Country_8   email_98@example.com\n",
       "98   99   Name_99   24  Country_9   email_99@example.com\n",
       "99  100  Name_100   55  Country_0  email_100@example.com\n",
       "\n",
       "[100 rows x 5 columns]"
      ]
     },
     "execution_count": 45,
     "metadata": {},
     "output_type": "execute_result"
    }
   ],
   "source": [
    "df"
   ]
  },
  {
   "cell_type": "code",
   "execution_count": 46,
   "metadata": {},
   "outputs": [
    {
     "data": {
      "text/html": [
       "<div>\n",
       "<style scoped>\n",
       "    .dataframe tbody tr th:only-of-type {\n",
       "        vertical-align: middle;\n",
       "    }\n",
       "\n",
       "    .dataframe tbody tr th {\n",
       "        vertical-align: top;\n",
       "    }\n",
       "\n",
       "    .dataframe thead th {\n",
       "        text-align: right;\n",
       "    }\n",
       "</style>\n",
       "<table border=\"1\" class=\"dataframe\">\n",
       "  <thead>\n",
       "    <tr style=\"text-align: right;\">\n",
       "      <th></th>\n",
       "      <th>ID</th>\n",
       "      <th>Name</th>\n",
       "      <th>Age</th>\n",
       "      <th>Country</th>\n",
       "      <th>Email</th>\n",
       "    </tr>\n",
       "  </thead>\n",
       "  <tbody>\n",
       "    <tr>\n",
       "      <th>0</th>\n",
       "      <td>1</td>\n",
       "      <td>Name_1</td>\n",
       "      <td>63</td>\n",
       "      <td>Country_1</td>\n",
       "      <td>email_1@example.com</td>\n",
       "    </tr>\n",
       "    <tr>\n",
       "      <th>1</th>\n",
       "      <td>2</td>\n",
       "      <td>Name_2</td>\n",
       "      <td>49</td>\n",
       "      <td>Country_2</td>\n",
       "      <td>email_2@example.com</td>\n",
       "    </tr>\n",
       "    <tr>\n",
       "      <th>2</th>\n",
       "      <td>3</td>\n",
       "      <td>Name_3</td>\n",
       "      <td>62</td>\n",
       "      <td>Country_3</td>\n",
       "      <td>email_3@example.com</td>\n",
       "    </tr>\n",
       "    <tr>\n",
       "      <th>3</th>\n",
       "      <td>4</td>\n",
       "      <td>Name_4</td>\n",
       "      <td>33</td>\n",
       "      <td>Country_4</td>\n",
       "      <td>email_4@example.com</td>\n",
       "    </tr>\n",
       "    <tr>\n",
       "      <th>4</th>\n",
       "      <td>5</td>\n",
       "      <td>Name_5</td>\n",
       "      <td>70</td>\n",
       "      <td>Country_5</td>\n",
       "      <td>email_5@example.com</td>\n",
       "    </tr>\n",
       "    <tr>\n",
       "      <th>...</th>\n",
       "      <td>...</td>\n",
       "      <td>...</td>\n",
       "      <td>...</td>\n",
       "      <td>...</td>\n",
       "      <td>...</td>\n",
       "    </tr>\n",
       "    <tr>\n",
       "      <th>95</th>\n",
       "      <td>96</td>\n",
       "      <td>Name_96</td>\n",
       "      <td>61</td>\n",
       "      <td>Country_6</td>\n",
       "      <td>email_96@example.com</td>\n",
       "    </tr>\n",
       "    <tr>\n",
       "      <th>96</th>\n",
       "      <td>97</td>\n",
       "      <td>Name_97</td>\n",
       "      <td>27</td>\n",
       "      <td>Country_7</td>\n",
       "      <td>email_97@example.com</td>\n",
       "    </tr>\n",
       "    <tr>\n",
       "      <th>97</th>\n",
       "      <td>98</td>\n",
       "      <td>Name_98</td>\n",
       "      <td>53</td>\n",
       "      <td>Country_8</td>\n",
       "      <td>email_98@example.com</td>\n",
       "    </tr>\n",
       "    <tr>\n",
       "      <th>98</th>\n",
       "      <td>99</td>\n",
       "      <td>Name_99</td>\n",
       "      <td>25</td>\n",
       "      <td>Country_9</td>\n",
       "      <td>email_99@example.com</td>\n",
       "    </tr>\n",
       "    <tr>\n",
       "      <th>99</th>\n",
       "      <td>100</td>\n",
       "      <td>Name_100</td>\n",
       "      <td>56</td>\n",
       "      <td>Country_0</td>\n",
       "      <td>email_100@example.com</td>\n",
       "    </tr>\n",
       "  </tbody>\n",
       "</table>\n",
       "<p>100 rows × 5 columns</p>\n",
       "</div>"
      ],
      "text/plain": [
       "     ID      Name  Age    Country                  Email\n",
       "0     1    Name_1   63  Country_1    email_1@example.com\n",
       "1     2    Name_2   49  Country_2    email_2@example.com\n",
       "2     3    Name_3   62  Country_3    email_3@example.com\n",
       "3     4    Name_4   33  Country_4    email_4@example.com\n",
       "4     5    Name_5   70  Country_5    email_5@example.com\n",
       "..  ...       ...  ...        ...                    ...\n",
       "95   96   Name_96   61  Country_6   email_96@example.com\n",
       "96   97   Name_97   27  Country_7   email_97@example.com\n",
       "97   98   Name_98   53  Country_8   email_98@example.com\n",
       "98   99   Name_99   25  Country_9   email_99@example.com\n",
       "99  100  Name_100   56  Country_0  email_100@example.com\n",
       "\n",
       "[100 rows x 5 columns]"
      ]
     },
     "execution_count": 46,
     "metadata": {},
     "output_type": "execute_result"
    }
   ],
   "source": [
    "df['Age'] = df['Age'] + 1\n",
    "df"
   ]
  },
  {
   "cell_type": "code",
   "execution_count": 47,
   "metadata": {},
   "outputs": [
    {
     "data": {
      "text/html": [
       "<div>\n",
       "<style scoped>\n",
       "    .dataframe tbody tr th:only-of-type {\n",
       "        vertical-align: middle;\n",
       "    }\n",
       "\n",
       "    .dataframe tbody tr th {\n",
       "        vertical-align: top;\n",
       "    }\n",
       "\n",
       "    .dataframe thead th {\n",
       "        text-align: right;\n",
       "    }\n",
       "</style>\n",
       "<table border=\"1\" class=\"dataframe\">\n",
       "  <thead>\n",
       "    <tr style=\"text-align: right;\">\n",
       "      <th></th>\n",
       "      <th>ID</th>\n",
       "      <th>Name</th>\n",
       "      <th>Age</th>\n",
       "      <th>Country</th>\n",
       "      <th>Email</th>\n",
       "    </tr>\n",
       "  </thead>\n",
       "  <tbody>\n",
       "    <tr>\n",
       "      <th>1</th>\n",
       "      <td>2</td>\n",
       "      <td>Name_2</td>\n",
       "      <td>49</td>\n",
       "      <td>Country_2</td>\n",
       "      <td>email_2@example.com</td>\n",
       "    </tr>\n",
       "    <tr>\n",
       "      <th>2</th>\n",
       "      <td>3</td>\n",
       "      <td>Name_3</td>\n",
       "      <td>62</td>\n",
       "      <td>Country_3</td>\n",
       "      <td>email_3@example.com</td>\n",
       "    </tr>\n",
       "    <tr>\n",
       "      <th>3</th>\n",
       "      <td>4</td>\n",
       "      <td>Name_4</td>\n",
       "      <td>33</td>\n",
       "      <td>Country_4</td>\n",
       "      <td>email_4@example.com</td>\n",
       "    </tr>\n",
       "    <tr>\n",
       "      <th>4</th>\n",
       "      <td>5</td>\n",
       "      <td>Name_5</td>\n",
       "      <td>70</td>\n",
       "      <td>Country_5</td>\n",
       "      <td>email_5@example.com</td>\n",
       "    </tr>\n",
       "    <tr>\n",
       "      <th>5</th>\n",
       "      <td>6</td>\n",
       "      <td>Name_6</td>\n",
       "      <td>33</td>\n",
       "      <td>Country_6</td>\n",
       "      <td>email_6@example.com</td>\n",
       "    </tr>\n",
       "    <tr>\n",
       "      <th>...</th>\n",
       "      <td>...</td>\n",
       "      <td>...</td>\n",
       "      <td>...</td>\n",
       "      <td>...</td>\n",
       "      <td>...</td>\n",
       "    </tr>\n",
       "    <tr>\n",
       "      <th>95</th>\n",
       "      <td>96</td>\n",
       "      <td>Name_96</td>\n",
       "      <td>61</td>\n",
       "      <td>Country_6</td>\n",
       "      <td>email_96@example.com</td>\n",
       "    </tr>\n",
       "    <tr>\n",
       "      <th>96</th>\n",
       "      <td>97</td>\n",
       "      <td>Name_97</td>\n",
       "      <td>27</td>\n",
       "      <td>Country_7</td>\n",
       "      <td>email_97@example.com</td>\n",
       "    </tr>\n",
       "    <tr>\n",
       "      <th>97</th>\n",
       "      <td>98</td>\n",
       "      <td>Name_98</td>\n",
       "      <td>53</td>\n",
       "      <td>Country_8</td>\n",
       "      <td>email_98@example.com</td>\n",
       "    </tr>\n",
       "    <tr>\n",
       "      <th>98</th>\n",
       "      <td>99</td>\n",
       "      <td>Name_99</td>\n",
       "      <td>25</td>\n",
       "      <td>Country_9</td>\n",
       "      <td>email_99@example.com</td>\n",
       "    </tr>\n",
       "    <tr>\n",
       "      <th>99</th>\n",
       "      <td>100</td>\n",
       "      <td>Name_100</td>\n",
       "      <td>56</td>\n",
       "      <td>Country_0</td>\n",
       "      <td>email_100@example.com</td>\n",
       "    </tr>\n",
       "  </tbody>\n",
       "</table>\n",
       "<p>99 rows × 5 columns</p>\n",
       "</div>"
      ],
      "text/plain": [
       "     ID      Name  Age    Country                  Email\n",
       "1     2    Name_2   49  Country_2    email_2@example.com\n",
       "2     3    Name_3   62  Country_3    email_3@example.com\n",
       "3     4    Name_4   33  Country_4    email_4@example.com\n",
       "4     5    Name_5   70  Country_5    email_5@example.com\n",
       "5     6    Name_6   33  Country_6    email_6@example.com\n",
       "..  ...       ...  ...        ...                    ...\n",
       "95   96   Name_96   61  Country_6   email_96@example.com\n",
       "96   97   Name_97   27  Country_7   email_97@example.com\n",
       "97   98   Name_98   53  Country_8   email_98@example.com\n",
       "98   99   Name_99   25  Country_9   email_99@example.com\n",
       "99  100  Name_100   56  Country_0  email_100@example.com\n",
       "\n",
       "[99 rows x 5 columns]"
      ]
     },
     "execution_count": 47,
     "metadata": {},
     "output_type": "execute_result"
    }
   ],
   "source": [
    "df.drop(0)"
   ]
  },
  {
   "cell_type": "code",
   "execution_count": 56,
   "metadata": {},
   "outputs": [
    {
     "name": "stdout",
     "output_type": "stream",
     "text": [
      "Data Types\n",
      " ID          int64\n",
      "Name       object\n",
      "Age         int64\n",
      "Country    object\n",
      "Email      object\n",
      "dtype: object\n",
      "\n",
      "\n",
      "Statistical summary\n",
      "                ID         Age\n",
      "count  100.000000  100.000000\n",
      "mean    50.500000   45.530000\n",
      "std     29.011492   15.190012\n",
      "min      1.000000   19.000000\n",
      "25%     25.750000   33.000000\n",
      "50%     50.500000   44.500000\n",
      "75%     75.250000   60.250000\n",
      "max    100.000000   70.000000\n"
     ]
    }
   ],
   "source": [
    "## Display the data types of each column\n",
    "print(\"Data Types\\n\" , df.dtypes)\n",
    "\n",
    "## Describe the DataFrame\n",
    "print(\"\\n\\nStatistical summary\\n\" , df.describe())"
   ]
  },
  {
   "cell_type": "code",
   "execution_count": 57,
   "metadata": {},
   "outputs": [
    {
     "data": {
      "text/html": [
       "<div>\n",
       "<style scoped>\n",
       "    .dataframe tbody tr th:only-of-type {\n",
       "        vertical-align: middle;\n",
       "    }\n",
       "\n",
       "    .dataframe tbody tr th {\n",
       "        vertical-align: top;\n",
       "    }\n",
       "\n",
       "    .dataframe thead th {\n",
       "        text-align: right;\n",
       "    }\n",
       "</style>\n",
       "<table border=\"1\" class=\"dataframe\">\n",
       "  <thead>\n",
       "    <tr style=\"text-align: right;\">\n",
       "      <th></th>\n",
       "      <th>ID</th>\n",
       "      <th>Age</th>\n",
       "    </tr>\n",
       "  </thead>\n",
       "  <tbody>\n",
       "    <tr>\n",
       "      <th>count</th>\n",
       "      <td>100.000000</td>\n",
       "      <td>100.000000</td>\n",
       "    </tr>\n",
       "    <tr>\n",
       "      <th>mean</th>\n",
       "      <td>50.500000</td>\n",
       "      <td>45.530000</td>\n",
       "    </tr>\n",
       "    <tr>\n",
       "      <th>std</th>\n",
       "      <td>29.011492</td>\n",
       "      <td>15.190012</td>\n",
       "    </tr>\n",
       "    <tr>\n",
       "      <th>min</th>\n",
       "      <td>1.000000</td>\n",
       "      <td>19.000000</td>\n",
       "    </tr>\n",
       "    <tr>\n",
       "      <th>25%</th>\n",
       "      <td>25.750000</td>\n",
       "      <td>33.000000</td>\n",
       "    </tr>\n",
       "    <tr>\n",
       "      <th>50%</th>\n",
       "      <td>50.500000</td>\n",
       "      <td>44.500000</td>\n",
       "    </tr>\n",
       "    <tr>\n",
       "      <th>75%</th>\n",
       "      <td>75.250000</td>\n",
       "      <td>60.250000</td>\n",
       "    </tr>\n",
       "    <tr>\n",
       "      <th>max</th>\n",
       "      <td>100.000000</td>\n",
       "      <td>70.000000</td>\n",
       "    </tr>\n",
       "  </tbody>\n",
       "</table>\n",
       "</div>"
      ],
      "text/plain": [
       "               ID         Age\n",
       "count  100.000000  100.000000\n",
       "mean    50.500000   45.530000\n",
       "std     29.011492   15.190012\n",
       "min      1.000000   19.000000\n",
       "25%     25.750000   33.000000\n",
       "50%     50.500000   44.500000\n",
       "75%     75.250000   60.250000\n",
       "max    100.000000   70.000000"
      ]
     },
     "execution_count": 57,
     "metadata": {},
     "output_type": "execute_result"
    }
   ],
   "source": [
    "df.describe()"
   ]
  }
 ],
 "metadata": {
  "kernelspec": {
   "display_name": "Python 3",
   "language": "python",
   "name": "python3"
  },
  "language_info": {
   "codemirror_mode": {
    "name": "ipython",
    "version": 3
   },
   "file_extension": ".py",
   "mimetype": "text/x-python",
   "name": "python",
   "nbconvert_exporter": "python",
   "pygments_lexer": "ipython3",
   "version": "3.13.7"
  }
 },
 "nbformat": 4,
 "nbformat_minor": 2
}
