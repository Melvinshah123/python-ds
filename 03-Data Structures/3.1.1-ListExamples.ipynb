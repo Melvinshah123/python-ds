{
 "cells": [
  {
   "cell_type": "markdown",
   "metadata": {},
   "source": [
    "#### Real-World Examples Using Lists in Python\n",
    "\n",
    "Lists are one of the most commonly used data structures in Python , thanks to their versatility and ease of use. Here are several practical examples that illustrate their use in real-world scenarios"
   ]
  },
  {
   "cell_type": "markdown",
   "metadata": {},
   "source": [
    "#### Example 1. Manage a To-Do List\n",
    "- Create a To Do List to keep track of tasks"
   ]
  },
  {
   "cell_type": "code",
   "execution_count": 1,
   "metadata": {},
   "outputs": [
    {
     "name": "stdout",
     "output_type": "stream",
     "text": [
      "Dont forget to pay the bills\n",
      "To do List remaining\n",
      "-Buy Groceries\n",
      "-Pay bills\n",
      "-Schedule meeting\n",
      "-Go for a run\n"
     ]
    }
   ],
   "source": [
    "to_do_list = [\"Buy Groceries\" , \"Clean the house\" ,\"Pay bills\"]\n",
    "\n",
    "## Adding to task\n",
    "to_do_list.append(\"Schedule meeting\")\n",
    "to_do_list.append(\"Go for a run\")\n",
    "\n",
    "## Removing a completed task\n",
    "to_do_list.remove(\"Clean the house\")\n",
    "\n",
    "##Checking if a task in the list\n",
    "if \"Pay bills\" in to_do_list:\n",
    "    print(\"Dont forget to pay the bills\")\n",
    "\n",
    "print(\"To do List remaining\")\n",
    "for task in to_do_list:\n",
    "    print(f\"-{task}\")"
   ]
  },
  {
   "cell_type": "markdown",
   "metadata": {},
   "source": [
    "#### Example 2. organizing Student Grades\n",
    "- Create a list to store and calculate average grades for students"
   ]
  },
  {
   "cell_type": "code",
   "execution_count": 2,
   "metadata": {},
   "outputs": [
    {
     "name": "stdout",
     "output_type": "stream",
     "text": [
      "Average grade = 88.00\n",
      "Highest grade = 95.00\n",
      "Lowest grade = 78.00\n"
     ]
    }
   ],
   "source": [
    "#Organizing student grades\n",
    "grades = [85 , 92 , 78 , 90 ,88]\n",
    "\n",
    "#Adding a new grade\n",
    "grades.append(95)\n",
    "\n",
    "#Calculating the average grade\n",
    "average_grade = sum(grades) / len(grades)\n",
    "print(f\"Average grade = {average_grade:.2f}\")\n",
    "\n",
    "#Finding the highest and lowest grade\n",
    "highest_grade = max(grades)\n",
    "lowest_grade = min(grades)\n",
    "print(f\"Highest grade = {highest_grade:.2f}\")\n",
    "print(f\"Lowest grade = {lowest_grade:.2f}\")\n"
   ]
  },
  {
   "cell_type": "markdown",
   "metadata": {},
   "source": [
    "#### Example 3. Managing an Inventory\n",
    "- Use a list to manage inventory items in a store"
   ]
  },
  {
   "cell_type": "code",
   "execution_count": null,
   "metadata": {},
   "outputs": [],
   "source": [
    "# Managing an inventory\n",
    "inventory = [\"apples\" , \"bananas\" , \"oranges\" , \"grapes\"]\n",
    "\n",
    "# Adding a new item\n",
    "inventory.append(\"strawberries\")\n",
    "\n",
    "# Removing ann item that is out of stock\n",
    "inventory.remove(\"bananas\")\n",
    "\n",
    "# Checking if an item is out of stock\n",
    "item = \"oranges\"\n",
    "if item in inventory:\n",
    "    print(f\"{item} are in stock\")\n",
    "else:\n",
    "    print(f\"{item} are of stock\")\n",
    "\n",
    "#Printing the inventory\n",
    "print(\"Inventory List\")"
   ]
  },
  {
   "cell_type": "markdown",
   "metadata": {},
   "source": [
    "#### Example 4. Collecting User Feedback\n",
    "- Use a list to collect and analyze user feedback"
   ]
  },
  {
   "cell_type": "code",
   "execution_count": 3,
   "metadata": {},
   "outputs": [
    {
     "name": "stdout",
     "output_type": "stream",
     "text": [
      "Positive Feedback Count: 2\n",
      "User feedback:\n",
      "-Great service!\n",
      "-Very satisfied\n",
      "-Could be better\n",
      "-Excellent experience\n",
      "-Not happy with the service\n"
     ]
    }
   ],
   "source": [
    "# Collecting user feedback\n",
    "feedback = [\"Great service!\", \"Very satisfied\" , \"Could be better\" , \"Excellent experience\"]\n",
    "\n",
    "# Adding new feedback\n",
    "feedback.append(\"Not happy with the service\")\n",
    "\n",
    "# Counting specific feedback\n",
    "positive_feedback_count = sum(1 for comment in feedback if \"great\" in comment.lower() or \"excellent\" in comment.lower())\n",
    "print(f\"Positive Feedback Count: {positive_feedback_count}\")\n",
    "\n",
    "#Printing all feedback\n",
    "print(\"User feedback:\")\n",
    "for comment in feedback:\n",
    "    print(f\"-{comment}\")"
   ]
  }
 ],
 "metadata": {
  "kernelspec": {
   "display_name": "Python 3",
   "language": "python",
   "name": "python3"
  },
  "language_info": {
   "codemirror_mode": {
    "name": "ipython",
    "version": 3
   },
   "file_extension": ".py",
   "mimetype": "text/x-python",
   "name": "python",
   "nbconvert_exporter": "python",
   "pygments_lexer": "ipython3",
   "version": "3.13.7"
  }
 },
 "nbformat": 4,
 "nbformat_minor": 2
}
