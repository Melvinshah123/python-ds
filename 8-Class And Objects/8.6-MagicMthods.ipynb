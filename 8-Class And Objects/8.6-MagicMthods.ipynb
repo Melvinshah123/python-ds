{
 "cells": [
  {
   "cell_type": "markdown",
   "id": "f1a1bf6e",
   "metadata": {},
   "source": [
    "#### Magic Methods\n",
    "Maagic methods are predefined methods in Python that you can override to change the behaviour of your objects. Some common magic methods include:"
   ]
  },
  {
   "cell_type": "code",
   "execution_count": 1,
   "id": "c6fa7f5e",
   "metadata": {},
   "outputs": [
    {
     "data": {
      "text/plain": [
       "\"\\n'__init__' : Initializes a new instance of a class\\n'__str__' : Returns a string representation of an object\\n'__repr__' : Returns an official string representation of an object\\n'__len__' : Returns the length of an object\\n'__getitem__' : Gets an item from a container\\n'__setitem__' : Sets an item in a container\\n\""
      ]
     },
     "execution_count": 1,
     "metadata": {},
     "output_type": "execute_result"
    }
   ],
   "source": [
    "'''\n",
    "'__init__' : Initializes a new instance of a class\n",
    "'__str__' : Returns a string representation of an object\n",
    "'__repr__' : Returns an official string representation of an object\n",
    "'__len__' : Returns the length of an object\n",
    "'__getitem__' : Gets an item from a container\n",
    "'__setitem__' : Sets an item in a container\n",
    "'''\n"
   ]
  },
  {
   "cell_type": "code",
   "execution_count": 3,
   "id": "03fe4912",
   "metadata": {},
   "outputs": [
    {
     "data": {
      "text/plain": [
       "['__class__',\n",
       " '__delattr__',\n",
       " '__dict__',\n",
       " '__dir__',\n",
       " '__doc__',\n",
       " '__eq__',\n",
       " '__format__',\n",
       " '__ge__',\n",
       " '__getattribute__',\n",
       " '__gt__',\n",
       " '__hash__',\n",
       " '__init__',\n",
       " '__init_subclass__',\n",
       " '__le__',\n",
       " '__lt__',\n",
       " '__module__',\n",
       " '__ne__',\n",
       " '__new__',\n",
       " '__reduce__',\n",
       " '__reduce_ex__',\n",
       " '__repr__',\n",
       " '__setattr__',\n",
       " '__sizeof__',\n",
       " '__str__',\n",
       " '__subclasshook__',\n",
       " '__weakref__']"
      ]
     },
     "execution_count": 3,
     "metadata": {},
     "output_type": "execute_result"
    }
   ],
   "source": [
    "class Person:\n",
    "    pass\n",
    "\n",
    "person = Person()\n",
    "dir(person)"
   ]
  },
  {
   "cell_type": "code",
   "execution_count": 4,
   "id": "9862bba6",
   "metadata": {},
   "outputs": [
    {
     "name": "stdout",
     "output_type": "stream",
     "text": [
      "<__main__.Person object at 0x000002C10FF52AA0>\n"
     ]
    }
   ],
   "source": [
    "print(person)"
   ]
  },
  {
   "cell_type": "code",
   "execution_count": 5,
   "id": "51a75149",
   "metadata": {},
   "outputs": [
    {
     "name": "stdout",
     "output_type": "stream",
     "text": [
      "<__main__.Person object at 0x000002C10FF53730>\n"
     ]
    }
   ],
   "source": [
    "## Basic methods\n",
    "class Person:\n",
    "    def __init__(self , name , age):\n",
    "        self.name = name\n",
    "        self.age = age\n",
    "person = Person(\"Krish\" , 34)\n",
    "print(person)"
   ]
  },
  {
   "cell_type": "code",
   "execution_count": 8,
   "id": "dcc9f256",
   "metadata": {},
   "outputs": [
    {
     "name": "stdout",
     "output_type": "stream",
     "text": [
      "Krish , 34 years old\n",
      "Person(name = Krish, age=34)\n"
     ]
    }
   ],
   "source": [
    "## Basic methods\n",
    "class Person:\n",
    "    def __init__(self , name , age):\n",
    "        self.name = name\n",
    "        self.age = age\n",
    "\n",
    "    def __str__(self):\n",
    "        return f\"{self.name} , {self.age} years old\"\n",
    "    \n",
    "    def __repr__(self):\n",
    "        return f\"Person(name = {self.name}, age={self.age})\"\n",
    "\n",
    "person = Person(\"Krish\" , 34)\n",
    "print(person)\n",
    "print(repr(person))\n"
   ]
  },
  {
   "cell_type": "code",
   "execution_count": null,
   "id": "42dcb6e6",
   "metadata": {},
   "outputs": [],
   "source": []
  }
 ],
 "metadata": {
  "kernelspec": {
   "display_name": "Python 3",
   "language": "python",
   "name": "python3"
  },
  "language_info": {
   "codemirror_mode": {
    "name": "ipython",
    "version": 3
   },
   "file_extension": ".py",
   "mimetype": "text/x-python",
   "name": "python",
   "nbconvert_exporter": "python",
   "pygments_lexer": "ipython3",
   "version": "3.10.0"
  }
 },
 "nbformat": 4,
 "nbformat_minor": 5
}
