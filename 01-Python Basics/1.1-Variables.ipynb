{
 "cells": [
  {
   "cell_type": "code",
   "execution_count": 22,
   "metadata": {},
   "outputs": [
    {
     "name": "stdout",
     "output_type": "stream",
     "text": [
      "2\n"
     ]
    }
   ],
   "source": [
    "a = 2\n",
    "print(a)"
   ]
  },
  {
   "cell_type": "code",
   "execution_count": 23,
   "metadata": {},
   "outputs": [
    {
     "name": "stdout",
     "output_type": "stream",
     "text": [
      "age : 32\n",
      "height: 6.1\n",
      "name : Krish\n"
     ]
    }
   ],
   "source": [
    "##Declaring and Assigning Variables\n",
    "\n",
    "age = 32\n",
    "height = 6.1\n",
    "name = \"Krish\"\n",
    "is_student = True\n",
    "##printing the variables\n",
    "\n",
    "print(\"age :\" , age)\n",
    "print(\"height:\" , height)\n",
    "print(\"name :\" , name)\n"
   ]
  },
  {
   "cell_type": "code",
   "execution_count": 24,
   "metadata": {},
   "outputs": [],
   "source": [
    "## Naming Convention\n",
    "## Variables should be descriptive\n",
    "## They must start with a letter or an '_' and contain letters , numbers and underscore\n",
    "## Vairables names are case sensitive\n",
    "\n",
    "## Valid variable names\n",
    "first_name = \"Krish\"\n",
    "last_name = \"Naik\"\n"
   ]
  },
  {
   "cell_type": "code",
   "execution_count": 25,
   "metadata": {},
   "outputs": [],
   "source": [
    "#Inavalid variable name\n",
    "# 2age=30\n",
    "# first-name = \"krish\"\n",
    "# @name = \"Krish\""
   ]
  },
  {
   "cell_type": "code",
   "execution_count": 26,
   "metadata": {},
   "outputs": [
    {
     "name": "stdout",
     "output_type": "stream",
     "text": [
      "False\n"
     ]
    }
   ],
   "source": [
    "## case senstivity\n",
    "name = \"Krish\"\n",
    "Name = \"Naik\"\n",
    "print(name == Name)"
   ]
  },
  {
   "cell_type": "code",
   "execution_count": 27,
   "metadata": {},
   "outputs": [
    {
     "name": "stdout",
     "output_type": "stream",
     "text": [
      "<class 'str'>\n",
      "<class 'bool'>\n"
     ]
    }
   ],
   "source": [
    "## Understadning Variable Types\n",
    "## Python is dynamically typed , type of a variable is determined at runtime\n",
    " \n",
    "age = 25  #int \n",
    "height = 6.1 #float\n",
    "name = \"Krish\" #string\n",
    "is_student = True # bool\n",
    "\n",
    "print(type(name))\n",
    "print(type(is_student))\n"
   ]
  },
  {
   "cell_type": "code",
   "execution_count": 28,
   "metadata": {},
   "outputs": [
    {
     "data": {
      "text/plain": [
       "float"
      ]
     },
     "execution_count": 28,
     "metadata": {},
     "output_type": "execute_result"
    }
   ],
   "source": [
    "# Type checking and Conversion\n",
    "type(height)"
   ]
  },
  {
   "cell_type": "code",
   "execution_count": 29,
   "metadata": {},
   "outputs": [
    {
     "name": "stdout",
     "output_type": "stream",
     "text": [
      "<class 'int'>\n",
      "25\n",
      "<class 'str'>\n"
     ]
    }
   ],
   "source": [
    "age = 25\n",
    "print(type(age))\n",
    "\n",
    "## Type Conversion\n",
    "age_str = str(age)\n",
    "print(age_str)\n",
    "print(type(age_str))"
   ]
  },
  {
   "cell_type": "code",
   "execution_count": 30,
   "metadata": {},
   "outputs": [],
   "source": [
    "# name = \"Krish\"\n",
    "# int(name)"
   ]
  },
  {
   "cell_type": "code",
   "execution_count": 31,
   "metadata": {},
   "outputs": [
    {
     "data": {
      "text/plain": [
       "float"
      ]
     },
     "execution_count": 31,
     "metadata": {},
     "output_type": "execute_result"
    }
   ],
   "source": [
    "height = 5.11\n",
    "type(height)"
   ]
  },
  {
   "cell_type": "code",
   "execution_count": 32,
   "metadata": {},
   "outputs": [
    {
     "name": "stdout",
     "output_type": "stream",
     "text": [
      "5\n",
      "5.0\n"
     ]
    }
   ],
   "source": [
    "print(int(height))\n",
    "print(float(int(height)))\n"
   ]
  },
  {
   "cell_type": "code",
   "execution_count": 33,
   "metadata": {},
   "outputs": [
    {
     "name": "stdout",
     "output_type": "stream",
     "text": [
      "10 <class 'int'>\n",
      "Hello <class 'str'>\n",
      "3.14 <class 'float'>\n"
     ]
    }
   ],
   "source": [
    "##Dynamic Typing \n",
    "## Python allows the type of a variable to change as the program executes\n",
    "\n",
    "var = 10\n",
    "print(var,type(var))\n",
    "\n",
    "var=\"Hello\"\n",
    "print(var,type(var))\n",
    "\n",
    "var=3.14\n",
    "print(var,type(var))\n",
    "\n",
    "\n"
   ]
  },
  {
   "cell_type": "code",
   "execution_count": 34,
   "metadata": {},
   "outputs": [
    {
     "name": "stdout",
     "output_type": "stream",
     "text": [
      "2 <class 'int'>\n"
     ]
    }
   ],
   "source": [
    "## input\n",
    "\n",
    "age = int(input(\"What is your age\"))\n",
    "print(age,type(age))"
   ]
  },
  {
   "cell_type": "code",
   "execution_count": 35,
   "metadata": {},
   "outputs": [
    {
     "name": "stdout",
     "output_type": "stream",
     "text": [
      "Sum 11.0\n",
      "Difference -1.0\n",
      "Product 30.0\n",
      "Quotient 0.8333333333333334\n"
     ]
    }
   ],
   "source": [
    "## Simple Calculator\n",
    "\n",
    "num1 = float(input(\"Enter first number\"))\n",
    "num2 = float(input(\"Enter second number\"))\n",
    "\n",
    "sum = num1 + num2\n",
    "difference = num1 - num2\n",
    "quotient = num1 / num2\n",
    "product = num1 * num2\n",
    "\n",
    "print(\"Sum\", sum)\n",
    "print(\"Difference\" , difference)\n",
    "print(\"Product\", product)\n",
    "print(\"Quotient\",quotient)"
   ]
  }
 ],
 "metadata": {
  "kernelspec": {
   "display_name": "Python 3",
   "language": "python",
   "name": "python3"
  },
  "language_info": {
   "codemirror_mode": {
    "name": "ipython",
    "version": 3
   },
   "file_extension": ".py",
   "mimetype": "text/x-python",
   "name": "python",
   "nbconvert_exporter": "python",
   "pygments_lexer": "ipython3",
   "version": "3.13.7"
  }
 },
 "nbformat": 4,
 "nbformat_minor": 2
}
